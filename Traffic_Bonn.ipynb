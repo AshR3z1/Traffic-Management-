{
 "cells": [
  {
   "cell_type": "code",
   "execution_count": 1,
   "id": "9b586770",
   "metadata": {},
   "outputs": [],
   "source": [
    "#import libraries\n",
    "import os\n",
    "import pyodbc\n",
    "import numpy as np\n",
    "import pandas as pd\n",
    "import glob"
   ]
  },
  {
   "cell_type": "code",
   "execution_count": 32,
   "id": "b39d4982",
   "metadata": {},
   "outputs": [],
   "source": [
    "#find csv files in my current working directory\n",
    "\n",
    "csv_files = []\n",
    "for file in os.listdir(os.getcwd()):\n",
    "    if file.endswith('.csv'):\n",
    "        csv_files.append(file)"
   ]
  },
  {
   "cell_type": "code",
   "execution_count": null,
   "id": "3d9e89c9",
   "metadata": {},
   "outputs": [],
   "source": [
    "csv_files"
   ]
  },
  {
   "cell_type": "code",
   "execution_count": null,
   "id": "edece4e1",
   "metadata": {},
   "outputs": [],
   "source": [
    "df = {}\n",
    "for file in csv_files:\n",
    "    df[file] = pd.read_csv(file)\n",
    "    print(file)"
   ]
  },
  {
   "cell_type": "code",
   "execution_count": 35,
   "id": "ee9d6635",
   "metadata": {},
   "outputs": [],
   "source": [
    "def change_column_name(data, column_name, target_name):\n",
    "    data.columns = data.columns.str.replace(column_name, target_name)\n",
    "    return data"
   ]
  },
  {
   "cell_type": "code",
   "execution_count": 36,
   "id": "2859ddd3",
   "metadata": {},
   "outputs": [],
   "source": [
    "def do_cleaning_nan(data, value_for_replacing = 0):\n",
    "    cleaned_data = data.fillna(value_for_replacing)\n",
    "    return cleaned_data"
   ]
  },
  {
   "cell_type": "code",
   "execution_count": null,
   "id": "1ae1071d",
   "metadata": {},
   "outputs": [],
   "source": [
    "for k in csv_files:\n",
    "    dataframe = df[k]\n",
    "    df[k] = do_cleaning_nan(df[k],0)\n",
    "    print(df[k])"
   ]
  },
  {
   "cell_type": "code",
   "execution_count": null,
   "id": "f58cdcaf",
   "metadata": {},
   "outputs": [],
   "source": [
    "for k in csv_files:\n",
    "    dataframe = df[k]\n",
    "    cleaned_data = change_column_name(df[k], 'Unnamed: 0', 't_id')\n",
    "    cleaned_data = change_column_name(df[k], 'Time', 'p_time')\n",
    "    print(df[k])"
   ]
  },
  {
   "cell_type": "code",
   "execution_count": null,
   "id": "d49d76e4",
   "metadata": {},
   "outputs": [],
   "source": [
    "for k in csv_files:\n",
    "    dataframe = df[k]\n",
    "    dataframe.columns = [x.replace(\" \",\"_\").replace(\"?\",\"\") \\\n",
    "                    .replace(\"-\",\"_\").replace(r\"/\",\"_\").replace(\"\\\\\",\"_\").replace(\"%\",\"\") \\\n",
    "                     .replace(\")\",\"\").replace(r\"(\",\"\").replace(\"$\",\"\") for x in dataframe.columns]\n",
    "\n",
    "    print(dataframe.columns)\n",
    "    \n",
    "replacements = {\n",
    "    'object': 'varchar',\n",
    "    'float64': 'float',\n",
    "    'int64': 'int',\n",
    "    'datetime64': 'timestamp',\n",
    "    'timedate64[ns]': 'varchar'\n",
    "}\n",
    "\n",
    "col_str =\", \".join(\"{} {}\".format(n, d) for (n, d) in zip(dataframe.columns, dataframe.dtypes.replace(replacements))) \n",
    "print(col_str)"
   ]
  },
  {
   "cell_type": "code",
   "execution_count": null,
   "id": "543656de",
   "metadata": {},
   "outputs": [],
   "source": [
    "pyodbc.drivers()\n",
    "\n",
    "conn = pyodbc.connect(\n",
    "    Trusted_connected=\"Yes\",\n",
    "    Driver='{SQL Server}',\n",
    "    Server=\"LAPTOP-DJB44MI5\\MSSQLSERVER02\",\n",
    "    Database=\"Test\"\n",
    ")\n",
    "\n",
    "conn.setdecoding(pyodbc.SQL_CHAR, encoding='latin1')\n",
    "conn.setencoding('latin1')\n",
    "\n",
    "cursor = conn.cursor()\n",
    "\n",
    "print('open database successfully')"
   ]
  },
  {
   "cell_type": "code",
   "execution_count": null,
   "id": "7daf8bb2",
   "metadata": {},
   "outputs": [],
   "source": [
    "cursor.execute(\"drop table if exists traffic_bonn;\")"
   ]
  },
  {
   "cell_type": "code",
   "execution_count": 42,
   "id": "ef8ce0c1",
   "metadata": {},
   "outputs": [],
   "source": [
    "cursor.execute('''\n",
    "\t\tCREATE TABLE traffic_bonn (\n",
    "\t\t\tt_id int,\n",
    "\t\t\topath_id int,\n",
    "\t\t\tsource varchar(max),\n",
    "\t\t\ttime varchar(max),\n",
    "\t\t\tspeed float,\n",
    "            traffic float,\n",
    "            incidentType varchar(max),\n",
    "            incidentID float,\n",
    "            incidentComments varchar(max),\n",
    "            Construction_Blockage varchar(max),\n",
    "            Consumptionl_h float,\n",
    "            Rpmu_min float,\n",
    "            Throttle_Position float,\n",
    "            CO2kg_h float,\n",
    "            vehicle_id varchar(max),\n",
    "            id int,\n",
    "            opath varchar(max),\n",
    "            p_time varchar(max),\n",
    "            weather_condition varchar(max)\n",
    "            \n",
    "            \n",
    "            \n",
    "\t    \t)\n",
    "              ''')\n",
    "\n",
    "conn.commit()"
   ]
  },
  {
   "cell_type": "code",
   "execution_count": null,
   "id": "5256b383",
   "metadata": {},
   "outputs": [],
   "source": [
    "for k in csv_files:\n",
    "    dataframe = df[k]\n",
    "    \n",
    "    for row in dataframe.itertuples():\n",
    "            \n",
    "        cursor.execute('''\n",
    "        INSERT INTO Test.dbo.traffic_bonn(t_id, opath_id, source, time, speed, traffic, incidentType, incidentID, incidentComments, Construction_Blockage, Consumptionl_h, Rpmu_min, Throttle_Position, CO2kg_h, vehicle_id, id, opath, p_time, weather_condition)\n",
    "        VALUES(?, ?, ?, ?, ?, ?, ?, ?, ?, ?, ?, ?, ?, ?, ?, ?, ?, ?, ?)\n",
    "        ''',\n",
    "                   row.t_id,\n",
    "                   row.opath_id,\n",
    "                   row.source,\n",
    "                   row.time,\n",
    "                   row.speed,\n",
    "                   row.traffic,\n",
    "                   row.incidentType,\n",
    "                   row.incidentID,\n",
    "                   row.incidentComments,\n",
    "                   row.Construction_Blockage,\n",
    "                   row.Consumptionl_h,\n",
    "                   row.Rpmu_min,\n",
    "                   row.Throttle_Position,\n",
    "                   row.CO2kg_h,\n",
    "                   row.vehicle_id,\n",
    "                   row.id,\n",
    "                   row.opath,\n",
    "                   row.p_time,\n",
    "                   row.weather_condition\n",
    "   )\n",
    "    \n",
    "    conn.commit()\n",
    "    print('Data Inserted')\n"
   ]
  },
  {
   "cell_type": "code",
   "execution_count": null,
   "id": "879382f3",
   "metadata": {},
   "outputs": [],
   "source": []
  }
 ],
 "metadata": {
  "kernelspec": {
   "display_name": "Python 3 (ipykernel)",
   "language": "python",
   "name": "python3"
  },
  "language_info": {
   "codemirror_mode": {
    "name": "ipython",
    "version": 3
   },
   "file_extension": ".py",
   "mimetype": "text/x-python",
   "name": "python",
   "nbconvert_exporter": "python",
   "pygments_lexer": "ipython3",
   "version": "3.9.13"
  }
 },
 "nbformat": 4,
 "nbformat_minor": 5
}
